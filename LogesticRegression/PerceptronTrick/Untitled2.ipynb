{
 "cells": [
  {
   "cell_type": "code",
   "execution_count": 63,
   "id": "3b79a78f-f927-4440-85bb-00b1e577fded",
   "metadata": {
    "tags": []
   },
   "outputs": [],
   "source": [
    "import numpy as np"
   ]
  },
  {
   "cell_type": "code",
   "execution_count": 64,
   "id": "3b641863-46dd-4a09-b483-50689ba7e425",
   "metadata": {
    "tags": []
   },
   "outputs": [],
   "source": [
    "class Perceptron:\n",
    "    def __init__(self,X):\n",
    "        self.X=X\n",
    "    def Classification(self,W):\n",
    "        Sum=np.dot(self.X,W)\n",
    "        return 1 / (1 + np.exp(-Sum))\n",
    "    def Predict(self,sigmoid):\n",
    "        if(sigmoid>0.5):\n",
    "            return 1\n",
    "        return 0"
   ]
  },
  {
   "cell_type": "code",
   "execution_count": 65,
   "id": "116fb964-7114-4835-b58f-d22e4ace3f3d",
   "metadata": {
    "tags": []
   },
   "outputs": [],
   "source": [
    "X=[1,2,3,4,5,6,7,8,9,10]\n",
    "W=[0.1,0.2,0.3,0.4,0.5,0.6,0.7,0.8,0.9,0.10]"
   ]
  },
  {
   "cell_type": "code",
   "execution_count": 66,
   "id": "204c2ab6-8ab9-4461-85e1-2909d5129f96",
   "metadata": {
    "tags": []
   },
   "outputs": [],
   "source": [
    "model=Perceptron(X)"
   ]
  },
  {
   "cell_type": "code",
   "execution_count": 67,
   "id": "d21a8a3e-ea22-4870-a824-c356f65e60cb",
   "metadata": {
    "tags": []
   },
   "outputs": [],
   "source": [
    "classification=model.Classification(W)"
   ]
  },
  {
   "cell_type": "code",
   "execution_count": 68,
   "id": "24585ffe-50c9-49bc-b82d-776344f56903",
   "metadata": {
    "tags": []
   },
   "outputs": [
    {
     "data": {
      "text/plain": [
       "0.9999999999998457"
      ]
     },
     "execution_count": 68,
     "metadata": {},
     "output_type": "execute_result"
    }
   ],
   "source": [
    "classification"
   ]
  },
  {
   "cell_type": "code",
   "execution_count": 69,
   "id": "7d4ed990-2be3-4fe4-a307-b2ea9179c1fe",
   "metadata": {
    "tags": []
   },
   "outputs": [],
   "source": [
    "yHat=model.Predict(classification)"
   ]
  },
  {
   "cell_type": "code",
   "execution_count": 70,
   "id": "fc8f65a5-e157-4a48-a92c-56fea5b4e9d4",
   "metadata": {
    "tags": []
   },
   "outputs": [
    {
     "data": {
      "text/plain": [
       "1"
      ]
     },
     "execution_count": 70,
     "metadata": {},
     "output_type": "execute_result"
    }
   ],
   "source": [
    "yHat"
   ]
  },
  {
   "cell_type": "code",
   "execution_count": null,
   "id": "2f972a03-679a-4057-bd7d-85db514252db",
   "metadata": {},
   "outputs": [],
   "source": []
  }
 ],
 "metadata": {
  "kernelspec": {
   "display_name": "Python 3 (ipykernel)",
   "language": "python",
   "name": "python3"
  },
  "language_info": {
   "codemirror_mode": {
    "name": "ipython",
    "version": 3
   },
   "file_extension": ".py",
   "mimetype": "text/x-python",
   "name": "python",
   "nbconvert_exporter": "python",
   "pygments_lexer": "ipython3",
   "version": "3.11.5"
  }
 },
 "nbformat": 4,
 "nbformat_minor": 5
}

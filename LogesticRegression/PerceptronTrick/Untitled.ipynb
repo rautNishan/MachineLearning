{
 "cells": [
  {
   "cell_type": "code",
   "execution_count": 1,
   "id": "cc9823ff-8ee6-4bb1-aa19-61c127c305ad",
   "metadata": {
    "tags": []
   },
   "outputs": [],
   "source": [
    "class Perceptron:\n",
    "    def __init__(self,X,y):\n",
    "        self.X=X\n",
    "        self.y=y\n",
    "        self.learningRate=0.1\n",
    "    def step(self,x):\n",
    "        return 1 if x>0 else 0\n",
    "    def fit(self):\n",
    "        self.X=np.insert(self.X,0,1,axis=1)\n",
    "        weights=np.ones(self.X.shape[1])\n",
    "        for i in range(1000):\n",
    "            j=np.random.randint(0,100)\n",
    "            y_hat=self.step(np.dot(self.X[j],weights))\n",
    "            weights=weights+self.learningRate*(self.y[j]-y_hat)*self.X[j]\n",
    "        return weights[0],weights[1:]"
   ]
  },
  {
   "cell_type": "code",
   "execution_count": null,
   "id": "81bd81c6-f8d8-46db-8800-918cc4b437c5",
   "metadata": {},
   "outputs": [],
   "source": []
  }
 ],
 "metadata": {
  "kernelspec": {
   "display_name": "Python 3 (ipykernel)",
   "language": "python",
   "name": "python3"
  },
  "language_info": {
   "codemirror_mode": {
    "name": "ipython",
    "version": 3
   },
   "file_extension": ".py",
   "mimetype": "text/x-python",
   "name": "python",
   "nbconvert_exporter": "python",
   "pygments_lexer": "ipython3",
   "version": "3.11.5"
  }
 },
 "nbformat": 4,
 "nbformat_minor": 5
}
